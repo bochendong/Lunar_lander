{
 "cells": [
  {
   "cell_type": "code",
   "execution_count": 1,
   "metadata": {},
   "outputs": [],
   "source": [
    "import numpy as np\n",
    "import gym"
   ]
  },
  {
   "cell_type": "code",
   "execution_count": 2,
   "metadata": {},
   "outputs": [],
   "source": [
    "env = gym.make('LunarLander-v2')"
   ]
  },
  {
   "cell_type": "code",
   "execution_count": 8,
   "metadata": {},
   "outputs": [],
   "source": [
    "obs_n = env.observation_space.shape[0]\n",
    "\n",
    "act_n = env.action_space.n"
   ]
  },
  {
   "cell_type": "code",
   "execution_count": 10,
   "metadata": {},
   "outputs": [
    {
     "name": "stdout",
     "output_type": "stream",
     "text": [
      "8\n",
      "4\n"
     ]
    }
   ],
   "source": [
    "'''\n",
    "### Observation Space\n",
    "    There are 8 states: the coordinates of the lander in `x` & `y`, its linear\n",
    "    velocities in `x` & `y`, its angle, its angular velocity, and two booleans\n",
    "    that represent whether each leg is in contact with the ground or not.\n",
    "'''\n",
    "print(obs_n)\n",
    "\n",
    "'''\n",
    "Action Space\n",
    "There are four discrete actions available: do nothing, fire left\n",
    "orientation engine, fire main engine, fire right orientation engine.'''\n",
    "print(act_n)\n",
    "\n",
    "'''\n",
    "### Rewards\n",
    "    Reward for moving from the top of the screen to the landing pad and coming\n",
    "    to rest is about 100-140 points.\n",
    "    If the lander moves away from the landing pad, it loses reward.\n",
    "    If the lander crashes, it receives an additional -100 points. If it comes\n",
    "    to rest, it receives an additional +100 points. Each leg with ground\n",
    "    contact is +10 points.\n",
    "    Firing the main engine is -0.3 points each frame. Firing the side engine\n",
    "    is -0.03 points each frame. Solved is 200 points.\n",
    "'''"
   ]
  }
 ],
 "metadata": {
  "interpreter": {
   "hash": "f4e5af365abde9565455761093e8e9bc7189c8b509b33061fd0f90eaa1b4d4cb"
  },
  "kernelspec": {
   "display_name": "Python 3.8.12 ('ml')",
   "language": "python",
   "name": "python3"
  },
  "language_info": {
   "codemirror_mode": {
    "name": "ipython",
    "version": 3
   },
   "file_extension": ".py",
   "mimetype": "text/x-python",
   "name": "python",
   "nbconvert_exporter": "python",
   "pygments_lexer": "ipython3",
   "version": "3.8.12"
  },
  "orig_nbformat": 4
 },
 "nbformat": 4,
 "nbformat_minor": 2
}
